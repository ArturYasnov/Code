{
 "cells": [
  {
   "cell_type": "code",
   "execution_count": 1,
   "metadata": {},
   "outputs": [
    {
     "name": "stdout",
     "output_type": "stream",
     "text": [
      "cuda:0\n"
     ]
    }
   ],
   "source": [
    "import os\n",
    "import gc\n",
    "import json\n",
    "import random\n",
    "import numpy as np\n",
    "import pandas as pd\n",
    "import matplotlib.pyplot as plt\n",
    "import tifffile as tiff\n",
    "import cv2 as cv\n",
    "import albumentations as albu\n",
    "\n",
    "import pathlib, sys, os, random, time\n",
    "import numba, gc, cv2\n",
    "import rasterio\n",
    "from rasterio.windows import Window\n",
    "\n",
    "from tqdm.notebook import tqdm\n",
    "from PIL import Image\n",
    "from sklearn.model_selection import train_test_split\n",
    "\n",
    "import torch\n",
    "import torch.nn as nn\n",
    "import torch.utils.data as D\n",
    "from torch.utils.data import DataLoader, Dataset\n",
    "import torch.nn.functional as F\n",
    "import segmentation_models_pytorch as smp\n",
    "\n",
    "from albumentations import (\n",
    "    Compose, OneOf, Normalize, HorizontalFlip, VerticalFlip, RandomRotate90, Transpose, ShiftScaleRotate, IAAAdditiveGaussianNoise, IAAPerspective,\n",
    "    CLAHE, RandomBrightness, RandomGamma, IAASharpen, Blur, MotionBlur, RandomContrast, HueSaturationValue, VerticalFlip,\n",
    "    RandomRotate90, OneOf, Resize, Rotate, RandomBrightnessContrast, Lambda\n",
    "    )\n",
    "from albumentations.pytorch import ToTensorV2, ToTensor\n",
    "#from albumentations import *\n",
    "\n",
    "%matplotlib inline\n",
    "\n",
    "device = torch.device(\"cuda:0\" if torch.cuda.is_available() else \"cpu\")\n",
    "print(device)"
   ]
  },
  {
   "cell_type": "code",
   "execution_count": 2,
   "metadata": {},
   "outputs": [],
   "source": [
    "TEST_DATA_DIR = '/home/arti/DL/HuBMAP/Data/'\n",
    "MODEL_SAVE_DIR = \"/home/arti/DL/HuBMAP/OUTPUTS/models/\"\n",
    "TILE_SIZE = 256\n",
    "REDUCE_RATE = 4\n",
    "SEED = 42\n",
    "BATCH_SIZE = 16\n",
    "NUM_EPOCHS = 20\n",
    "\n",
    "WINDOW=1024\n",
    "MIN_OVERLAP=32\n",
    "NEW_SIZE=256\n",
    "\n",
    "torch.cuda.empty_cache()"
   ]
  },
  {
   "cell_type": "code",
   "execution_count": 5,
   "metadata": {},
   "outputs": [],
   "source": [
    "def make_grid(shape, window=256, min_overlap=32):\n",
    "    \"\"\"\n",
    "        Return Array of size (N,4), where N - number of tiles,\n",
    "        2nd axis represente slices: x1,x2,y1,y2 \n",
    "    \"\"\"\n",
    "    x, y = shape\n",
    "    nx = x // (window - min_overlap) + 1\n",
    "    x1 = np.linspace(0, x, num=nx, endpoint=False, dtype=np.int64)\n",
    "    x1[-1] = x - window\n",
    "    x2 = (x1 + window).clip(0, x)\n",
    "    ny = y // (window - min_overlap) + 1\n",
    "    y1 = np.linspace(0, y, num=ny, endpoint=False, dtype=np.int64)\n",
    "    y1[-1] = y - window\n",
    "    y2 = (y1 + window).clip(0, y)\n",
    "    slices = np.zeros((nx,ny, 4), dtype=np.int64)\n",
    "    \n",
    "    for i in range(nx):\n",
    "        for j in range(ny):\n",
    "            slices[i,j] = x1[i], x2[i], y1[j], y2[j]    \n",
    "    return slices.reshape(nx*ny,4)\n",
    "\n",
    "@numba.njit()\n",
    "def rle_numba(pixels):\n",
    "    size = len(pixels)\n",
    "    points = []\n",
    "    if pixels[0] == 1: points.append(0)\n",
    "    flag = True\n",
    "    for i in range(1, size):\n",
    "        if pixels[i] != pixels[i-1]:\n",
    "            if flag:\n",
    "                points.append(i+1)\n",
    "                flag = False\n",
    "            else:\n",
    "                points.append(i+1 - points[-1])\n",
    "                flag = True\n",
    "    if pixels[-1] == 1: points.append(size-points[-1]+1)    \n",
    "    return points\n",
    "\n",
    "def rle_numba_encode(image):\n",
    "    pixels = image.flatten(order = 'F')\n",
    "    points = rle_numba(pixels)\n",
    "    return ' '.join(str(x) for x in points)\n",
    "\n",
    "def rle_decode(mask_rle, shape=(256, 256)):\n",
    "    '''\n",
    "    mask_rle: run-length as string formated (start length)\n",
    "    shape: (height,width) of array to return \n",
    "    Returns numpy array, 1 - mask, 0 - background\n",
    "\n",
    "    '''\n",
    "    s = mask_rle.split()\n",
    "    starts, lengths = [np.asarray(x, dtype=int) for x in (s[0:][::2], s[1:][::2])]\n",
    "    starts -= 1\n",
    "    ends = starts + lengths\n",
    "    img = np.zeros(shape[0]*shape[1], dtype=np.uint8)\n",
    "    for lo, hi in zip(starts, ends):\n",
    "        img[lo:hi] = 1\n",
    "    return img.reshape(shape, order='F')\n",
    "\n",
    "def visualize_tensor(**images):\n",
    "    \"\"\"PLot images in one row.\"\"\"\n",
    "    n = len(images)\n",
    "    plt.figure(figsize=(16, 5))\n",
    "    for i, (name, image) in enumerate(images.items()):\n",
    "        plt.subplot(1, n, i + 1)\n",
    "        plt.xticks([])\n",
    "        plt.yticks([])\n",
    "        plt.title(' '.join(name.split('_')).title())\n",
    "        plt.imshow(image)\n",
    "    plt.show()"
   ]
  },
  {
   "cell_type": "code",
   "execution_count": 3,
   "metadata": {},
   "outputs": [],
   "source": [
    "# ====================================================\n",
    "# ValTransforms\n",
    "# ====================================================\n",
    "def ValTransforms():\n",
    "    return Compose([\n",
    "        Resize(256,256),\n",
    "        Normalize(\n",
    "            mean=[0.485, 0.456, 0.406],\n",
    "            std=[0.229, 0.224, 0.225],\n",
    "        ),\n",
    "            #ToTensorV2(),\n",
    "    ])"
   ]
  },
  {
   "cell_type": "code",
   "execution_count": 4,
   "metadata": {},
   "outputs": [],
   "source": [
    "model = smp.Unet(encoder_name='se_resnext50_32x4d', \n",
    "                 encoder_weights='imagenet', \n",
    "                 activation='sigmoid')\n",
    "\n",
    "model = torch.load(os.path.join(MODEL_SAVE_DIR, 'best_model_sub.pth'), map_location=torch.device(device))\n",
    "model.to(device);\n",
    "model.eval();"
   ]
  },
  {
   "cell_type": "code",
   "execution_count": 10,
   "metadata": {},
   "outputs": [
    {
     "name": "stdout",
     "output_type": "stream",
     "text": [
      "\u001b[0m\u001b[01;35m0486052bb.tiff\u001b[0m            Predict.ipynb   Train.ipynb\r\n",
      "Mask_Encode_Decode.ipynb  submission.csv  Unet_HuBMAP.ipynb\r\n"
     ]
    }
   ],
   "source": [
    "ls"
   ]
  },
  {
   "cell_type": "code",
   "execution_count": 17,
   "metadata": {},
   "outputs": [
    {
     "name": "stderr",
     "output_type": "stream",
     "text": [
      "/home/arti/anaconda3/lib/python3.7/site-packages/albumentations/augmentations/transforms.py:2964: UserWarning: Using lambda is incompatible with multiprocessing. Consider using regular functions or partial().\n",
      "  \"Using lambda is incompatible with multiprocessing. \"\n"
     ]
    },
    {
     "data": {
      "application/vnd.jupyter.widget-view+json": {
       "model_id": "4a5708fbeb9c44888a71bcdfe7dccd5b",
       "version_major": 2,
       "version_minor": 0
      },
      "text/plain": [
       "HBox(children=(FloatProgress(value=0.0, max=1.0), HTML(value='')))"
      ]
     },
     "metadata": {},
     "output_type": "display_data"
    },
    {
     "name": "stderr",
     "output_type": "stream",
     "text": [
      "/home/arti/anaconda3/lib/python3.7/site-packages/rasterio/__init__.py:207: NotGeoreferencedWarning: Dataset has no geotransform, gcps, or rpcs. The identity matrix be returned.\n",
      "  s = DatasetReader(path, driver=driver, sharing=sharing, **kwargs)\n"
     ]
    },
    {
     "name": "stdout",
     "output_type": "stream",
     "text": [
      "1 Predicting 0486052bb\n",
      "(25784, 34937)\n",
      "\n"
     ]
    }
   ],
   "source": [
    "identity_trfm = Lambda(image = lambda x,cols=None,rows=None : x)\n",
    "identity = rasterio.Affine(1, 0, 0, 0, 1, 0)\n",
    "\n",
    "transforms = ValTransforms()\n",
    "\n",
    "p = pathlib.Path('/home/arti/DL/BasicCode/Segmentations/')\n",
    "subm = {}\n",
    "\n",
    "for i, filename in tqdm(enumerate(p.glob('*.tiff')), \n",
    "                        total = len(list(p.glob('*.tiff')))):\n",
    "    \n",
    "    print(f'{i+1} Predicting {filename.stem}')\n",
    "    \n",
    "    dataset = rasterio.open(filename.as_posix(), transform = identity)\n",
    "    print(dataset.shape)\n",
    "    slices = make_grid(dataset.shape, window=WINDOW, min_overlap=MIN_OVERLAP)\n",
    "    preds = np.zeros(dataset.shape, dtype=np.uint8)\n",
    "    \n",
    "    for (x1,x2,y1,y2) in slices:\n",
    "        image = dataset.read([1,2,3],\n",
    "                    window=Window.from_slices((x1,x2),(y1,y2))) \n",
    "        \n",
    "        # SLICE TO TORCH.TENSOR\n",
    "        image = np.moveaxis(image, 0, -1)  \n",
    "        # resize and normalize\n",
    "        image = transforms(image=image)['image']\n",
    "        # equivalent ToTensorV2\n",
    "        image = np.moveaxis(image, -1, 0)\n",
    "        image = torch.from_numpy(image)\n",
    "        \n",
    "        with torch.no_grad():\n",
    "            # (3,256,256) -> (1,3,256,256)\n",
    "            image = image.float().to(device)[None]\n",
    "            \n",
    "            score = model(image)\n",
    "            score = score.cpu().numpy()[0][0]   \n",
    "                    \n",
    "            # UPscaling 256->1024\n",
    "            score = cv2.resize(score, (WINDOW, WINDOW)) \n",
    "            \n",
    "            #print(np.mean(score), np.median(score))\n",
    "            \n",
    "        \n",
    "        preds[x1:x2,y1:y2] = (score > 0.5).astype(np.uint8)      \n",
    "    subm[i] = {'id':filename.stem, 'predicted': rle_numba_encode(preds)}\n",
    "    del preds\n",
    "    gc.collect();"
   ]
  },
  {
   "cell_type": "code",
   "execution_count": 18,
   "metadata": {},
   "outputs": [
    {
     "data": {
      "text/html": [
       "<div>\n",
       "<style scoped>\n",
       "    .dataframe tbody tr th:only-of-type {\n",
       "        vertical-align: middle;\n",
       "    }\n",
       "\n",
       "    .dataframe tbody tr th {\n",
       "        vertical-align: top;\n",
       "    }\n",
       "\n",
       "    .dataframe thead th {\n",
       "        text-align: right;\n",
       "    }\n",
       "</style>\n",
       "<table border=\"1\" class=\"dataframe\">\n",
       "  <thead>\n",
       "    <tr style=\"text-align: right;\">\n",
       "      <th></th>\n",
       "      <th>id</th>\n",
       "      <th>predicted</th>\n",
       "    </tr>\n",
       "  </thead>\n",
       "  <tbody>\n",
       "    <tr>\n",
       "      <th>0</th>\n",
       "      <td>0486052bb</td>\n",
       "      <td>101727681 20 101753453 37 101779234 43 1018050...</td>\n",
       "    </tr>\n",
       "  </tbody>\n",
       "</table>\n",
       "</div>"
      ],
      "text/plain": [
       "          id                                          predicted\n",
       "0  0486052bb  101727681 20 101753453 37 101779234 43 1018050..."
      ]
     },
     "execution_count": 18,
     "metadata": {},
     "output_type": "execute_result"
    }
   ],
   "source": [
    "submission = pd.DataFrame.from_dict(subm, orient='index')\n",
    "submission.to_csv('submission.csv', index=False)\n",
    "submission"
   ]
  },
  {
   "cell_type": "code",
   "execution_count": 20,
   "metadata": {},
   "outputs": [
    {
     "data": {
      "image/png": "[encoded data removed]",
      "text/plain": [
       "<Figure size 1152x360 with 1 Axes>"
      ]
     },
     "metadata": {},
     "output_type": "display_data"
    }
   ],
   "source": [
    "image = rle_decode(submission.loc[0].predicted, shape=(25784, 34937))\n",
    "visualize_tensor(image=image)"
   ]
  },
  {
   "cell_type": "code",
   "execution_count": null,
   "metadata": {},
   "outputs": [],
   "source": []
  }
 ],
 "metadata": {
  "kernelspec": {
   "display_name": "Python 3",
   "language": "python",
   "name": "python3"
  },
  "language_info": {
   "codemirror_mode": {
    "name": "ipython",
    "version": 3
   },
   "file_extension": ".py",
   "mimetype": "text/x-python",
   "name": "python",
   "nbconvert_exporter": "python",
   "pygments_lexer": "ipython3",
   "version": "3.7.6"
  }
 },
 "nbformat": 4,
 "nbformat_minor": 4
}
