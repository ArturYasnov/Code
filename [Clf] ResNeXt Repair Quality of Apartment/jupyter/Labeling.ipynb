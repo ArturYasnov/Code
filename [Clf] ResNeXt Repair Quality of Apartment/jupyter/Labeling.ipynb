{
 "cells": [
  {
   "cell_type": "markdown",
   "metadata": {},
   "source": [
    "#### ipyannotate\n",
    "install: \\\n",
    "!pip install ipyannotate \\\n",
    "!jupyter nbextension enable --py --sys-prefix ipyannotate \n",
    "\n",
    "\n",
    "ipyannotate example: \\\n",
    "https://nbviewer.jupyter.org/github/natasha/ipyannotate/blob/master/docs/index.ipynb"
   ]
  },
  {
   "cell_type": "code",
   "execution_count": 49,
   "metadata": {},
   "outputs": [],
   "source": [
    "import os\n",
    "import shutil\n",
    "from glob import glob\n",
    "from ipyannotate import annotate\n",
    "from ipyannotate.buttons import ValueButton as Button, NextButton, BackButton\n",
    "\n",
    "from PIL import Image\n",
    "from matplotlib import pyplot as plt\n",
    "from IPython.display import display\n",
    "%matplotlib inline\n",
    "\n",
    "def display_item(item):\n",
    "    display(item[0])"
   ]
  },
  {
   "cell_type": "code",
   "execution_count": 52,
   "metadata": {},
   "outputs": [],
   "source": [
    "# /home/arti/DL/Houses_Model_quality_of_repair/Data/Labeled/empty_flat/\n",
    "INPUT_DIR = '/home/arti/DL/Houses_Model_quality_of_repair/Data/Labeled/good_flat/'\n",
    "data = [(Image.open(_).resize((400,400), Image.ANTIALIAS),_) for _ in glob(INPUT_DIR+'/*.jpg')]  # 680 mb"
   ]
  },
  {
   "cell_type": "code",
   "execution_count": 53,
   "metadata": {},
   "outputs": [
    {
     "data": {
      "text/plain": [
       "872"
      ]
     },
     "execution_count": 53,
     "metadata": {},
     "output_type": "execute_result"
    }
   ],
   "source": [
    "len(data)"
   ]
  },
  {
   "cell_type": "code",
   "execution_count": 54,
   "metadata": {},
   "outputs": [
    {
     "data": {
      "application/vnd.jupyter.widget-view+json": {
       "model_id": "8bbea74d46364b43a3e679c031197047",
       "version_major": 2,
       "version_minor": 0
      },
      "text/plain": [
       "Annotation(canvas=OutputCanvas(), progress=Progress(atoms=[<ipyannotate.progress.Atom object at 0x7f5127558350…"
      ]
     },
     "metadata": {},
     "output_type": "display_data"
    }
   ],
   "source": [
    "buttons = [\n",
    "    Button('good_flat', color='gray', shortcut='1'),\n",
    "    Button('granny_flat +-', color='green', shortcut='2'),\n",
    "    Button('errors', color='red', shortcut='3'),\n",
    "    BackButton(shortcut='q'),\n",
    "    NextButton(shortcut='e')\n",
    "]\n",
    "\n",
    "annotation = annotate(data, buttons=buttons, display=display_item)\n",
    "annotation"
   ]
  },
  {
   "cell_type": "code",
   "execution_count": 55,
   "metadata": {},
   "outputs": [],
   "source": [
    "## import pandas as pd\n",
    "pd.DataFrame(annotation.tasks).to_csv('room_labeled.csv', index=False)"
   ]
  },
  {
   "cell_type": "code",
   "execution_count": 56,
   "metadata": {},
   "outputs": [
    {
     "data": {
      "text/plain": [
       "872"
      ]
     },
     "execution_count": 56,
     "metadata": {},
     "output_type": "execute_result"
    }
   ],
   "source": [
    "len(annotation.tasks)"
   ]
  },
  {
   "cell_type": "code",
   "execution_count": 57,
   "metadata": {},
   "outputs": [],
   "source": [
    "for (i,task) in enumerate(annotation.tasks):\n",
    "    source_img = task.output[1]\n",
    "    target_path = '/home/arti/DL/Houses_Model_quality_of_repair/Data/Labeled/'\n",
    "    \n",
    "    if task.value == 'good_flat':\n",
    "        target_path = target_path + 'good_flat_emp/'+str(i)+'.jpg'\n",
    "        shutil.move(source_img, target_path)\n",
    "    elif task.value == 'granny_flat +-':\n",
    "        target_path = target_path + 'granny_flat/'+str(i)+'.jpg'\n",
    "        shutil.move(source_img, target_path)\n",
    "    elif task.value == 'errors':\n",
    "        target_path = target_path + 'errors/'+str(i)+'.jpg'\n",
    "        shutil.move(source_img, target_path)"
   ]
  },
  {
   "cell_type": "code",
   "execution_count": 60,
   "metadata": {},
   "outputs": [
    {
     "name": "stdout",
     "output_type": "stream",
     "text": [
      "782\n",
      "782\n"
     ]
    }
   ],
   "source": [
    "# Test\n",
    "\n",
    "class_num = 0\n",
    "for task in annotation.tasks:\n",
    "    if task.value == 'good_flat':\n",
    "        class_num += 1\n",
    "print(class_num)\n",
    "\n",
    "target_num = 0\n",
    "for file in os.listdir('/home/arti/DL/Houses_Model_quality_of_repair/Data/Labeled/good_flat_emp/'):\n",
    "    if file.endswith(\".jpg\"):\n",
    "        target_num += 1\n",
    "print(target_num)"
   ]
  },
  {
   "cell_type": "code",
   "execution_count": null,
   "metadata": {},
   "outputs": [],
   "source": []
  }
 ],
 "metadata": {
  "kernelspec": {
   "display_name": "Python 3",
   "language": "python",
   "name": "python3"
  },
  "language_info": {
   "codemirror_mode": {
    "name": "ipython",
    "version": 3
   },
   "file_extension": ".py",
   "mimetype": "text/x-python",
   "name": "python",
   "nbconvert_exporter": "python",
   "pygments_lexer": "ipython3",
   "version": "3.7.6"
  }
 },
 "nbformat": 4,
 "nbformat_minor": 4
}
