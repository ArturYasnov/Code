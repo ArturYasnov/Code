{
 "cells": [
  {
   "cell_type": "code",
   "execution_count": 1,
   "metadata": {},
   "outputs": [],
   "source": [
    "import pandas as pd\n",
    "import numpy as np\n",
    "import xgboost as xgb\n",
    "\n",
    "from sklearn.model_selection import cross_val_predict, cross_val_score, \\\n",
    "    GridSearchCV, RandomizedSearchCV, train_test_split, KFold, validation_curve\n",
    "\n",
    "import matplotlib.pyplot as plt\n",
    "import seaborn as sns\n",
    "%matplotlib inline"
   ]
  },
  {
   "cell_type": "code",
   "execution_count": 2,
   "metadata": {},
   "outputs": [],
   "source": [
    "import sys\n",
    "from os import path\n",
    "repository_path = path.expanduser('~')\n",
    "sys.path.append(repository_path + '/modules')\n",
    "from import_credentials import import_credentials\n",
    "credentials = import_credentials()\n",
    "conn_analytics = credentials['conn_analytics']\n",
    "conn_pulse = credentials['pulse_athena']"
   ]
  },
  {
   "cell_type": "markdown",
   "metadata": {},
   "source": [
    "## Reading data"
   ]
  },
  {
   "cell_type": "code",
   "execution_count": 3,
   "metadata": {},
   "outputs": [],
   "source": [
    "data = pd.read_sql(\"\"\"\n",
    "select \n",
    "    ad_id, cars_brand, cars_model, cars_type, cars_engine, cars_gearbox, \n",
    "    cars_capacity, regdate, mileage, currency, price\n",
    "from public.ad_params_auto a\n",
    "left join public.alesha using (ad_id)\n",
    "where \n",
    "    cars_brand is not null\n",
    "    and publish_datetime >= '2020-01-01 00:00:00'  \n",
    "    and regdate >= '2002'\n",
    "limit 10000\n",
    "\"\"\", conn_analytics)\n",
    "\n",
    "ads = pd.read_sql(\"\"\"\n",
    "select ad_id, active_ads_of_user\n",
    "from public.alesha a\n",
    "where publish_datetime >= '2020-01-01 00:00:00'\n",
    "\"\"\", conn_analytics)"
   ]
  },
  {
   "cell_type": "markdown",
   "metadata": {},
   "source": [
    "### Merge data"
   ]
  },
  {
   "cell_type": "code",
   "execution_count": 4,
   "metadata": {},
   "outputs": [
    {
     "data": {
      "text/html": [
       "<div>\n",
       "<style scoped>\n",
       "    .dataframe tbody tr th:only-of-type {\n",
       "        vertical-align: middle;\n",
       "    }\n",
       "\n",
       "    .dataframe tbody tr th {\n",
       "        vertical-align: top;\n",
       "    }\n",
       "\n",
       "    .dataframe thead th {\n",
       "        text-align: right;\n",
       "    }\n",
       "</style>\n",
       "<table border=\"1\" class=\"dataframe\">\n",
       "  <thead>\n",
       "    <tr style=\"text-align: right;\">\n",
       "      <th></th>\n",
       "      <th>ad_id</th>\n",
       "      <th>cars_brand</th>\n",
       "      <th>cars_model</th>\n",
       "      <th>cars_type</th>\n",
       "      <th>cars_engine</th>\n",
       "      <th>cars_gearbox</th>\n",
       "      <th>cars_capacity</th>\n",
       "      <th>regdate</th>\n",
       "      <th>mileage</th>\n",
       "      <th>currency</th>\n",
       "      <th>price</th>\n",
       "      <th>active_ads_of_user</th>\n",
       "    </tr>\n",
       "  </thead>\n",
       "  <tbody>\n",
       "    <tr>\n",
       "      <td>0</td>\n",
       "      <td>92634787</td>\n",
       "      <td>Seat</td>\n",
       "      <td>Ibiza</td>\n",
       "      <td>hatchback</td>\n",
       "      <td>petrol</td>\n",
       "      <td>mechanics</td>\n",
       "      <td>1.2</td>\n",
       "      <td>2008</td>\n",
       "      <td>200000.0</td>\n",
       "      <td>BYR</td>\n",
       "      <td>10000.0</td>\n",
       "      <td>NaN</td>\n",
       "    </tr>\n",
       "    <tr>\n",
       "      <td>1</td>\n",
       "      <td>92627447</td>\n",
       "      <td>Acura</td>\n",
       "      <td>MDX</td>\n",
       "      <td>minivan</td>\n",
       "      <td>gasoline</td>\n",
       "      <td>automatic</td>\n",
       "      <td>1.7</td>\n",
       "      <td>2010</td>\n",
       "      <td>9364.0</td>\n",
       "      <td>BYR</td>\n",
       "      <td>NaN</td>\n",
       "      <td>1.0</td>\n",
       "    </tr>\n",
       "    <tr>\n",
       "      <td>2</td>\n",
       "      <td>92627980</td>\n",
       "      <td>Volkswagen</td>\n",
       "      <td>Polo</td>\n",
       "      <td>hatchback</td>\n",
       "      <td>diesel</td>\n",
       "      <td>mechanics</td>\n",
       "      <td>1.4</td>\n",
       "      <td>2008</td>\n",
       "      <td>121500.0</td>\n",
       "      <td>BYR</td>\n",
       "      <td>16000.0</td>\n",
       "      <td>NaN</td>\n",
       "    </tr>\n",
       "    <tr>\n",
       "      <td>3</td>\n",
       "      <td>92628231</td>\n",
       "      <td>Peugeot</td>\n",
       "      <td>207</td>\n",
       "      <td>hatchback</td>\n",
       "      <td>petrol</td>\n",
       "      <td>mechanics</td>\n",
       "      <td>1.4</td>\n",
       "      <td>2008</td>\n",
       "      <td>132000.0</td>\n",
       "      <td>BYR</td>\n",
       "      <td>9045.0</td>\n",
       "      <td>NaN</td>\n",
       "    </tr>\n",
       "  </tbody>\n",
       "</table>\n",
       "</div>"
      ],
      "text/plain": [
       "      ad_id  cars_brand cars_model  cars_type cars_engine cars_gearbox  \\\n",
       "0  92634787        Seat      Ibiza  hatchback      petrol    mechanics   \n",
       "1  92627447       Acura        MDX    minivan    gasoline    automatic   \n",
       "2  92627980  Volkswagen       Polo  hatchback      diesel    mechanics   \n",
       "3  92628231     Peugeot        207  hatchback      petrol    mechanics   \n",
       "\n",
       "  cars_capacity regdate   mileage currency    price  active_ads_of_user  \n",
       "0           1.2    2008  200000.0      BYR  10000.0                 NaN  \n",
       "1           1.7    2010    9364.0      BYR      NaN                 1.0  \n",
       "2           1.4    2008  121500.0      BYR  16000.0                 NaN  \n",
       "3           1.4    2008  132000.0      BYR   9045.0                 NaN  "
      ]
     },
     "execution_count": 4,
     "metadata": {},
     "output_type": "execute_result"
    }
   ],
   "source": [
    "data = data.merge(ads, on=['ad_id'], how='left')\n",
    "data.head(4)"
   ]
  },
  {
   "cell_type": "markdown",
   "metadata": {},
   "source": [
    "### Clear missed values"
   ]
  },
  {
   "cell_type": "code",
   "execution_count": 5,
   "metadata": {},
   "outputs": [
    {
     "name": "stdout",
     "output_type": "stream",
     "text": [
      "Missing values:\n",
      "                    Total  Percent\n",
      "active_ads_of_user   3806   0.3806\n",
      "price                 186   0.0186\n",
      "cars_model            155   0.0155\n",
      "cars_capacity          50   0.0050\n",
      "cars_engine            12   0.0012\n"
     ]
    }
   ],
   "source": [
    "def missed(data, h = 10):\n",
    "    total = data.isnull().sum().sort_values(ascending=False)\n",
    "    percent = (data.isnull().sum()/data.isnull().count()).sort_values(ascending=False)\n",
    "    missing_data = pd.concat([total, percent], axis=1, keys=['Total', 'Percent'])\n",
    "    print('Missing values:')\n",
    "    print(missing_data.head(h))\n",
    "    \n",
    "missed(data, 5)"
   ]
  },
  {
   "cell_type": "code",
   "execution_count": 6,
   "metadata": {},
   "outputs": [
    {
     "name": "stdout",
     "output_type": "stream",
     "text": [
      "Missing values:\n",
      "                    Total  Percent\n",
      "active_ads_of_user      0      0.0\n",
      "price                   0      0.0\n",
      "currency                0      0.0\n",
      "mileage                 0      0.0\n",
      "regdate                 0      0.0\n"
     ]
    }
   ],
   "source": [
    "def missing_values_clean(data):\n",
    "    data.active_ads_of_user = data.active_ads_of_user.fillna(0)\n",
    "    data = data.dropna()\n",
    "    return data\n",
    "\n",
    "data = missing_values_clean(data)\n",
    "missed(data, 5)"
   ]
  },
  {
   "cell_type": "markdown",
   "metadata": {},
   "source": [
    "## Feature selecting and correlations (See EDA.jpnb)"
   ]
  },
  {
   "cell_type": "code",
   "execution_count": 7,
   "metadata": {},
   "outputs": [
    {
     "data": {
      "image/png": "[encoded data removed]",
      "text/plain": [
       "<Figure size 576x432 with 2 Axes>"
      ]
     },
     "metadata": {
      "needs_background": "light"
     },
     "output_type": "display_data"
    }
   ],
   "source": [
    "def targer_value_corr(data, target, k = 10, figsize = (10,10)):\n",
    "    corrmatrix = data.corr()\n",
    "    cols = corrmatrix.nlargest(k, target)[target].index\n",
    "    cm = np.corrcoef(data[cols].values.T)\n",
    "    plt.figure(figsize = figsize)\n",
    "    sns.set(font_scale=1.25)\n",
    "    hm = sns.heatmap(cm, cbar=True, annot=True, square=True, fmt='.2f', annot_kws={'size': 20}, yticklabels=cols.values, xticklabels=cols.values)\n",
    "    plt.show()\n",
    "    \n",
    "targer_value_corr(data, 'active_ads_of_user', figsize = (8,6))"
   ]
  },
  {
   "cell_type": "code",
   "execution_count": 8,
   "metadata": {},
   "outputs": [
    {
     "data": {
      "image/png": "[encoded data removed]",
      "text/plain": [
       "<Figure size 360x360 with 1 Axes>"
      ]
     },
     "metadata": {},
     "output_type": "display_data"
    }
   ],
   "source": [
    "def value_counts_plot(variable):\n",
    "    variable_counts = variable.value_counts(normalize=True)\n",
    "    #print(variable_counts)\n",
    "    f, ax = plt.subplots(figsize=(5, 5))\n",
    "    sns.barplot(x=variable_counts.index, y=variable_counts)\n",
    "    plt.xlabel('Features', fontsize=15)\n",
    "    plt.ylabel('Count', fontsize=15)\n",
    "    plt.plot()\n",
    "    \n",
    "value_counts_plot(data.active_ads_of_user[data.active_ads_of_user < 7])"
   ]
  },
  {
   "cell_type": "code",
   "execution_count": 9,
   "metadata": {},
   "outputs": [
    {
     "data": {
      "text/html": [
       "<div>\n",
       "<style scoped>\n",
       "    .dataframe tbody tr th:only-of-type {\n",
       "        vertical-align: middle;\n",
       "    }\n",
       "\n",
       "    .dataframe tbody tr th {\n",
       "        vertical-align: top;\n",
       "    }\n",
       "\n",
       "    .dataframe thead th {\n",
       "        text-align: right;\n",
       "    }\n",
       "</style>\n",
       "<table border=\"1\" class=\"dataframe\">\n",
       "  <thead>\n",
       "    <tr style=\"text-align: right;\">\n",
       "      <th></th>\n",
       "      <th>cars_type</th>\n",
       "      <th>cars_engine</th>\n",
       "      <th>cars_gearbox</th>\n",
       "      <th>cars_capacity</th>\n",
       "      <th>regdate</th>\n",
       "      <th>mileage</th>\n",
       "      <th>price</th>\n",
       "    </tr>\n",
       "  </thead>\n",
       "  <tbody>\n",
       "    <tr>\n",
       "      <td>0</td>\n",
       "      <td>hatchback</td>\n",
       "      <td>petrol</td>\n",
       "      <td>mechanics</td>\n",
       "      <td>1.2</td>\n",
       "      <td>2008.0</td>\n",
       "      <td>200000.0</td>\n",
       "      <td>10000.0</td>\n",
       "    </tr>\n",
       "    <tr>\n",
       "      <td>1</td>\n",
       "      <td>hatchback</td>\n",
       "      <td>diesel</td>\n",
       "      <td>mechanics</td>\n",
       "      <td>1.4</td>\n",
       "      <td>2008.0</td>\n",
       "      <td>121500.0</td>\n",
       "      <td>16000.0</td>\n",
       "    </tr>\n",
       "    <tr>\n",
       "      <td>2</td>\n",
       "      <td>hatchback</td>\n",
       "      <td>petrol</td>\n",
       "      <td>mechanics</td>\n",
       "      <td>1.4</td>\n",
       "      <td>2008.0</td>\n",
       "      <td>132000.0</td>\n",
       "      <td>9045.0</td>\n",
       "    </tr>\n",
       "    <tr>\n",
       "      <td>3</td>\n",
       "      <td>sedan</td>\n",
       "      <td>diesel</td>\n",
       "      <td>mechanics</td>\n",
       "      <td>2.2</td>\n",
       "      <td>2003.0</td>\n",
       "      <td>450000.0</td>\n",
       "      <td>14756.0</td>\n",
       "    </tr>\n",
       "    <tr>\n",
       "      <td>4</td>\n",
       "      <td>off-road</td>\n",
       "      <td>diesel</td>\n",
       "      <td>mechanics</td>\n",
       "      <td>2.8</td>\n",
       "      <td>2008.0</td>\n",
       "      <td>180000.0</td>\n",
       "      <td>5859.0</td>\n",
       "    </tr>\n",
       "  </tbody>\n",
       "</table>\n",
       "</div>"
      ],
      "text/plain": [
       "   cars_type cars_engine cars_gearbox  cars_capacity  regdate   mileage  \\\n",
       "0  hatchback      petrol    mechanics            1.2   2008.0  200000.0   \n",
       "1  hatchback      diesel    mechanics            1.4   2008.0  121500.0   \n",
       "2  hatchback      petrol    mechanics            1.4   2008.0  132000.0   \n",
       "3      sedan      diesel    mechanics            2.2   2003.0  450000.0   \n",
       "4   off-road      diesel    mechanics            2.8   2008.0  180000.0   \n",
       "\n",
       "     price  \n",
       "0  10000.0  \n",
       "1  16000.0  \n",
       "2   9045.0  \n",
       "3  14756.0  \n",
       "4   5859.0  "
      ]
     },
     "execution_count": 9,
     "metadata": {},
     "output_type": "execute_result"
    }
   ],
   "source": [
    "def feature_transforn_and_selection(data):\n",
    "    data = data.replace({\"cars_capacity\" : '<1'}, 0)\n",
    "    data = data.replace({\"cars_capacity\" : '>4'}, 5)\n",
    "    data = data.replace({\"regdate\" : 'LTE1980'}, '1980')   \n",
    "    data[['regdate','cars_capacity']] = data[['regdate','cars_capacity']].astype('float64')\n",
    "\n",
    "    data = data[data.cars_engine.isin(['petrol', 'diesel'])]\n",
    "    data = data[data.mileage >= 50] \n",
    "    #data.loc[data.currency == 'EUR', 'price'] *= data.value\n",
    "    \n",
    "    data = data[['cars_type', 'cars_engine','cars_gearbox', \n",
    "                 'cars_capacity' ,'regdate','mileage', 'price']]\n",
    "    data = data.reset_index(drop = True)\n",
    "    return data\n",
    "\n",
    "data = feature_transforn_and_selection(data)\n",
    "data.head()"
   ]
  },
  {
   "cell_type": "markdown",
   "metadata": {},
   "source": [
    "## Dummies"
   ]
  },
  {
   "cell_type": "code",
   "execution_count": 10,
   "metadata": {},
   "outputs": [
    {
     "name": "stdout",
     "output_type": "stream",
     "text": [
      "<class 'pandas.core.frame.DataFrame'>\n",
      "RangeIndex: 9343 entries, 0 to 9342\n",
      "Data columns (total 7 columns):\n",
      "cars_type        9343 non-null object\n",
      "cars_engine      9343 non-null object\n",
      "cars_gearbox     9343 non-null object\n",
      "cars_capacity    9343 non-null float64\n",
      "regdate          9343 non-null float64\n",
      "mileage          9343 non-null float64\n",
      "price            9343 non-null float64\n",
      "dtypes: float64(4), object(3)\n",
      "memory usage: 511.1+ KB\n"
     ]
    }
   ],
   "source": [
    "data.info()"
   ]
  },
  {
   "cell_type": "code",
   "execution_count": 11,
   "metadata": {},
   "outputs": [
    {
     "data": {
      "text/html": [
       "<div>\n",
       "<style scoped>\n",
       "    .dataframe tbody tr th:only-of-type {\n",
       "        vertical-align: middle;\n",
       "    }\n",
       "\n",
       "    .dataframe tbody tr th {\n",
       "        vertical-align: top;\n",
       "    }\n",
       "\n",
       "    .dataframe thead th {\n",
       "        text-align: right;\n",
       "    }\n",
       "</style>\n",
       "<table border=\"1\" class=\"dataframe\">\n",
       "  <thead>\n",
       "    <tr style=\"text-align: right;\">\n",
       "      <th></th>\n",
       "      <th>cars_capacity</th>\n",
       "      <th>regdate</th>\n",
       "      <th>mileage</th>\n",
       "      <th>price</th>\n",
       "      <th>cars_type_sedan</th>\n",
       "      <th>cars_type_minivan</th>\n",
       "      <th>cars_type_off-road</th>\n",
       "      <th>cars_type_hatchback</th>\n",
       "      <th>cars_type_estate</th>\n",
       "      <th>cars_type_minibus</th>\n",
       "      <th>cars_type_coupe</th>\n",
       "      <th>cars_type_convertible</th>\n",
       "      <th>cars_type_van</th>\n",
       "      <th>cars_type_pickup</th>\n",
       "      <th>cars_engine_petrol</th>\n",
       "      <th>cars_engine_diesel</th>\n",
       "      <th>cars_gearbox_automatic</th>\n",
       "      <th>cars_gearbox_mechanics</th>\n",
       "    </tr>\n",
       "  </thead>\n",
       "  <tbody>\n",
       "    <tr>\n",
       "      <td>0</td>\n",
       "      <td>1.2</td>\n",
       "      <td>2008.0</td>\n",
       "      <td>200000.0</td>\n",
       "      <td>10000.0</td>\n",
       "      <td>0</td>\n",
       "      <td>0</td>\n",
       "      <td>0</td>\n",
       "      <td>1</td>\n",
       "      <td>0</td>\n",
       "      <td>0</td>\n",
       "      <td>0</td>\n",
       "      <td>0</td>\n",
       "      <td>0</td>\n",
       "      <td>0</td>\n",
       "      <td>1</td>\n",
       "      <td>0</td>\n",
       "      <td>0</td>\n",
       "      <td>1</td>\n",
       "    </tr>\n",
       "    <tr>\n",
       "      <td>1</td>\n",
       "      <td>1.4</td>\n",
       "      <td>2008.0</td>\n",
       "      <td>121500.0</td>\n",
       "      <td>16000.0</td>\n",
       "      <td>0</td>\n",
       "      <td>0</td>\n",
       "      <td>0</td>\n",
       "      <td>1</td>\n",
       "      <td>0</td>\n",
       "      <td>0</td>\n",
       "      <td>0</td>\n",
       "      <td>0</td>\n",
       "      <td>0</td>\n",
       "      <td>0</td>\n",
       "      <td>0</td>\n",
       "      <td>1</td>\n",
       "      <td>0</td>\n",
       "      <td>1</td>\n",
       "    </tr>\n",
       "    <tr>\n",
       "      <td>2</td>\n",
       "      <td>1.4</td>\n",
       "      <td>2008.0</td>\n",
       "      <td>132000.0</td>\n",
       "      <td>9045.0</td>\n",
       "      <td>0</td>\n",
       "      <td>0</td>\n",
       "      <td>0</td>\n",
       "      <td>1</td>\n",
       "      <td>0</td>\n",
       "      <td>0</td>\n",
       "      <td>0</td>\n",
       "      <td>0</td>\n",
       "      <td>0</td>\n",
       "      <td>0</td>\n",
       "      <td>1</td>\n",
       "      <td>0</td>\n",
       "      <td>0</td>\n",
       "      <td>1</td>\n",
       "    </tr>\n",
       "    <tr>\n",
       "      <td>3</td>\n",
       "      <td>2.2</td>\n",
       "      <td>2003.0</td>\n",
       "      <td>450000.0</td>\n",
       "      <td>14756.0</td>\n",
       "      <td>1</td>\n",
       "      <td>0</td>\n",
       "      <td>0</td>\n",
       "      <td>0</td>\n",
       "      <td>0</td>\n",
       "      <td>0</td>\n",
       "      <td>0</td>\n",
       "      <td>0</td>\n",
       "      <td>0</td>\n",
       "      <td>0</td>\n",
       "      <td>0</td>\n",
       "      <td>1</td>\n",
       "      <td>0</td>\n",
       "      <td>1</td>\n",
       "    </tr>\n",
       "  </tbody>\n",
       "</table>\n",
       "</div>"
      ],
      "text/plain": [
       "   cars_capacity  regdate   mileage    price  cars_type_sedan  \\\n",
       "0            1.2   2008.0  200000.0  10000.0                0   \n",
       "1            1.4   2008.0  121500.0  16000.0                0   \n",
       "2            1.4   2008.0  132000.0   9045.0                0   \n",
       "3            2.2   2003.0  450000.0  14756.0                1   \n",
       "\n",
       "   cars_type_minivan  cars_type_off-road  cars_type_hatchback  \\\n",
       "0                  0                   0                    1   \n",
       "1                  0                   0                    1   \n",
       "2                  0                   0                    1   \n",
       "3                  0                   0                    0   \n",
       "\n",
       "   cars_type_estate  cars_type_minibus  cars_type_coupe  \\\n",
       "0                 0                  0                0   \n",
       "1                 0                  0                0   \n",
       "2                 0                  0                0   \n",
       "3                 0                  0                0   \n",
       "\n",
       "   cars_type_convertible  cars_type_van  cars_type_pickup  cars_engine_petrol  \\\n",
       "0                      0              0                 0                   1   \n",
       "1                      0              0                 0                   0   \n",
       "2                      0              0                 0                   1   \n",
       "3                      0              0                 0                   0   \n",
       "\n",
       "   cars_engine_diesel  cars_gearbox_automatic  cars_gearbox_mechanics  \n",
       "0                   0                       0                       1  \n",
       "1                   1                       0                       1  \n",
       "2                   0                       0                       1  \n",
       "3                   1                       0                       1  "
      ]
     },
     "execution_count": 11,
     "metadata": {},
     "output_type": "execute_result"
    }
   ],
   "source": [
    "def dummy_encode(sample):\n",
    "    cars_type_categories = ['sedan', 'minivan', 'off-road', 'hatchback', 'estate', \n",
    "                        'minibus', 'coupe', 'convertible', 'van', 'pickup']\n",
    "    cars_gearbox_categories = ['automatic', 'mechanics']\n",
    "    cars_engine_categories = ['petrol', 'diesel']\n",
    "\n",
    "    sample.cars_type = pd.Categorical(sample.cars_type, categories = cars_type_categories)\n",
    "    sample.cars_gearbox = pd.Categorical(sample.cars_gearbox, categories = cars_gearbox_categories)\n",
    "    sample.cars_engine = pd.Categorical(sample.cars_engine, categories = cars_engine_categories)\n",
    "\n",
    "    sample = pd.get_dummies(sample)\n",
    "    return sample\n",
    "\n",
    "data = dummy_encode(data)\n",
    "data.head(4)"
   ]
  },
  {
   "cell_type": "markdown",
   "metadata": {},
   "source": [
    "# XGBoost"
   ]
  },
  {
   "cell_type": "markdown",
   "metadata": {},
   "source": [
    "## simple fit-predict"
   ]
  },
  {
   "cell_type": "code",
   "execution_count": 12,
   "metadata": {},
   "outputs": [],
   "source": [
    "X = data.drop(['price'], axis = 1)\n",
    "y = data['price']\n",
    "\n",
    "X_train, X_test, y_train, y_test = train_test_split(X, y, test_size=0.15, shuffle = True)"
   ]
  },
  {
   "cell_type": "code",
   "execution_count": 14,
   "metadata": {},
   "outputs": [
    {
     "name": "stdout",
     "output_type": "stream",
     "text": [
      "[16000. 27296. 13631.  5323.  4412.] \n",
      " [7.7990e+03 1.0999e+04 1.4000e+04 5.0000e+00 2.1000e+04]\n"
     ]
    }
   ],
   "source": [
    "params = {\n",
    "    \"objective\": \"binary:logistic\",\n",
    "    \"max_depth\":10,\n",
    "    \"learning_rate\": 0.1,\n",
    "    \"colsample_bytree\": 0.8,\n",
    "    \"subsample\": 0.9,\n",
    "    'min_child_weight': 4,\n",
    "    \"grow_policy\": \"lossguide\",\n",
    "    \"tree_method\": \"hist\",\n",
    "    \"n_estimators\": 1000\n",
    "}\n",
    "xgb_model = xgb.XGBRegressor(**params, seed = 100)\n",
    "xgb_model.fit(X_train, y_train)\n",
    "pred = xgb_model.predict(X_test)\n",
    "\n",
    "# predictions\n",
    "print(pred[:5]//1, '\\n', y_test.values[:5]//1)"
   ]
  },
  {
   "cell_type": "markdown",
   "metadata": {},
   "source": [
    "## Find best params of XGBOOST"
   ]
  },
  {
   "cell_type": "code",
   "execution_count": 16,
   "metadata": {},
   "outputs": [],
   "source": [
    "# A parameter grid for XGBoost\n",
    "params = {\n",
    "        'min_child_weight': np.arange(2, 15, 1),\n",
    "        'subsample': np.arange(0.1, 1, 0.01),\n",
    "        'colsample_bytree': np.arange(0.1, 1, 0.01),\n",
    "        'max_depth': np.arange(2, 6, 1)\n",
    "        }\n",
    "\n",
    "xgb_model = xgb.XGBRegressor(learning_rate=0.2, n_estimators=300, objective='reg:squarederror',\n",
    "                    silent=True, nthread=1)"
   ]
  },
  {
   "cell_type": "code",
   "execution_count": 17,
   "metadata": {},
   "outputs": [],
   "source": [
    "folds = 3\n",
    "param_comb = 100\n",
    "\n",
    "skf = KFold(n_splits=folds, shuffle = True, random_state = 1001)\n",
    "random_search = RandomizedSearchCV(xgb_model, param_distributions=params, n_iter=param_comb, \n",
    "                                   scoring='neg_mean_absolute_error', n_jobs=4, \n",
    "                                   cv=skf.split(X,y), verbose=3, random_state=1001 )\n"
   ]
  },
  {
   "cell_type": "code",
   "execution_count": 18,
   "metadata": {},
   "outputs": [
    {
     "name": "stdout",
     "output_type": "stream",
     "text": [
      "Fitting 3 folds for each of 100 candidates, totalling 300 fits\n"
     ]
    },
    {
     "name": "stderr",
     "output_type": "stream",
     "text": [
      "[Parallel(n_jobs=4)]: Using backend LokyBackend with 4 concurrent workers.\n",
      "[Parallel(n_jobs=4)]: Done  24 tasks      | elapsed:   10.8s\n",
      "[Parallel(n_jobs=4)]: Done 120 tasks      | elapsed:   44.4s\n",
      "[Parallel(n_jobs=4)]: Done 280 tasks      | elapsed:  1.7min\n",
      "[Parallel(n_jobs=4)]: Done 300 out of 300 | elapsed:  1.9min finished\n",
      "/home/arturyasnou/anaconda3/lib/python3.7/site-packages/xgboost/core.py:588: FutureWarning: Series.base is deprecated and will be removed in a future version\n",
      "  data.base is not None and isinstance(data, np.ndarray) \\\n"
     ]
    },
    {
     "name": "stdout",
     "output_type": "stream",
     "text": [
      "---hist --- 113.31563830375671 seconds ---\n"
     ]
    }
   ],
   "source": [
    "# Here we go\n",
    "import time\n",
    "start_time = time.time() # timing starts from this point for \"start_time\" variable\n",
    "\n",
    "random_search.fit(X, y)\n",
    "\n",
    "print(\"---hist --- %s seconds ---\" % (time.time() - start_time))"
   ]
  },
  {
   "cell_type": "code",
   "execution_count": 19,
   "metadata": {},
   "outputs": [
    {
     "name": "stdout",
     "output_type": "stream",
     "text": [
      "\n",
      " Best estimator:\n",
      "XGBRegressor(base_score=0.5, booster='gbtree', colsample_bylevel=1,\n",
      "             colsample_bynode=1, colsample_bytree=0.20999999999999996, gamma=0,\n",
      "             importance_type='gain', learning_rate=0.2, max_delta_step=0,\n",
      "             max_depth=2, min_child_weight=8, missing=None, n_estimators=300,\n",
      "             n_jobs=1, nthread=1, objective='reg:squarederror', random_state=0,\n",
      "             reg_alpha=0, reg_lambda=1, scale_pos_weight=1, seed=None,\n",
      "             silent=True, subsample=0.9499999999999995, verbosity=1)\n",
      "\n",
      " Best hyperparameters:\n",
      "{'subsample': 0.9499999999999995, 'min_child_weight': 8, 'max_depth': 2, 'colsample_bytree': 0.20999999999999996}\n"
     ]
    }
   ],
   "source": [
    "print('\\n Best estimator:')\n",
    "print(random_search.best_estimator_)\n",
    "\n",
    "print('\\n Best hyperparameters:')\n",
    "print(random_search.best_params_)\n",
    "\n",
    "results = pd.DataFrame(random_search.cv_results_)\n",
    "results.sort_values(by='rank_test_score', inplace=True)"
   ]
  },
  {
   "cell_type": "code",
   "execution_count": 20,
   "metadata": {},
   "outputs": [
    {
     "data": {
      "text/html": [
       "<div>\n",
       "<style scoped>\n",
       "    .dataframe tbody tr th:only-of-type {\n",
       "        vertical-align: middle;\n",
       "    }\n",
       "\n",
       "    .dataframe tbody tr th {\n",
       "        vertical-align: top;\n",
       "    }\n",
       "\n",
       "    .dataframe thead th {\n",
       "        text-align: right;\n",
       "    }\n",
       "</style>\n",
       "<table border=\"1\" class=\"dataframe\">\n",
       "  <thead>\n",
       "    <tr style=\"text-align: right;\">\n",
       "      <th></th>\n",
       "      <th>rank_test_score</th>\n",
       "      <th>params</th>\n",
       "    </tr>\n",
       "  </thead>\n",
       "  <tbody>\n",
       "    <tr>\n",
       "      <td>1</td>\n",
       "      <td>1</td>\n",
       "      <td>{'subsample': 0.9499999999999995, 'min_child_w...</td>\n",
       "    </tr>\n",
       "    <tr>\n",
       "      <td>63</td>\n",
       "      <td>2</td>\n",
       "      <td>{'subsample': 0.8999999999999996, 'min_child_w...</td>\n",
       "    </tr>\n",
       "    <tr>\n",
       "      <td>87</td>\n",
       "      <td>3</td>\n",
       "      <td>{'subsample': 0.9099999999999996, 'min_child_w...</td>\n",
       "    </tr>\n",
       "    <tr>\n",
       "      <td>26</td>\n",
       "      <td>4</td>\n",
       "      <td>{'subsample': 0.7499999999999997, 'min_child_w...</td>\n",
       "    </tr>\n",
       "    <tr>\n",
       "      <td>52</td>\n",
       "      <td>5</td>\n",
       "      <td>{'subsample': 0.7199999999999996, 'min_child_w...</td>\n",
       "    </tr>\n",
       "    <tr>\n",
       "      <td>...</td>\n",
       "      <td>...</td>\n",
       "      <td>...</td>\n",
       "    </tr>\n",
       "    <tr>\n",
       "      <td>16</td>\n",
       "      <td>96</td>\n",
       "      <td>{'subsample': 0.32999999999999985, 'min_child_...</td>\n",
       "    </tr>\n",
       "    <tr>\n",
       "      <td>71</td>\n",
       "      <td>97</td>\n",
       "      <td>{'subsample': 0.19999999999999996, 'min_child_...</td>\n",
       "    </tr>\n",
       "    <tr>\n",
       "      <td>10</td>\n",
       "      <td>98</td>\n",
       "      <td>{'subsample': 0.21999999999999995, 'min_child_...</td>\n",
       "    </tr>\n",
       "    <tr>\n",
       "      <td>86</td>\n",
       "      <td>99</td>\n",
       "      <td>{'subsample': 0.13999999999999999, 'min_child_...</td>\n",
       "    </tr>\n",
       "    <tr>\n",
       "      <td>98</td>\n",
       "      <td>100</td>\n",
       "      <td>{'subsample': 0.1, 'min_child_weight': 5, 'max...</td>\n",
       "    </tr>\n",
       "  </tbody>\n",
       "</table>\n",
       "<p>100 rows × 2 columns</p>\n",
       "</div>"
      ],
      "text/plain": [
       "    rank_test_score                                             params\n",
       "1                 1  {'subsample': 0.9499999999999995, 'min_child_w...\n",
       "63                2  {'subsample': 0.8999999999999996, 'min_child_w...\n",
       "87                3  {'subsample': 0.9099999999999996, 'min_child_w...\n",
       "26                4  {'subsample': 0.7499999999999997, 'min_child_w...\n",
       "52                5  {'subsample': 0.7199999999999996, 'min_child_w...\n",
       "..              ...                                                ...\n",
       "16               96  {'subsample': 0.32999999999999985, 'min_child_...\n",
       "71               97  {'subsample': 0.19999999999999996, 'min_child_...\n",
       "10               98  {'subsample': 0.21999999999999995, 'min_child_...\n",
       "86               99  {'subsample': 0.13999999999999999, 'min_child_...\n",
       "98              100  {'subsample': 0.1, 'min_child_weight': 5, 'max...\n",
       "\n",
       "[100 rows x 2 columns]"
      ]
     },
     "execution_count": 20,
     "metadata": {},
     "output_type": "execute_result"
    }
   ],
   "source": [
    "results[['rank_test_score', 'params']] #[results.rank_test_score == 1].params.values"
   ]
  },
  {
   "cell_type": "markdown",
   "metadata": {},
   "source": [
    "### Подберем оптимальное число деревьев. Зафиксируем lr и остальные параметры"
   ]
  },
  {
   "cell_type": "code",
   "execution_count": 22,
   "metadata": {},
   "outputs": [],
   "source": [
    "params = {'subsample': 0.75, \n",
    "          'min_child_weight': 5,\n",
    "          'max_depth': 4,\n",
    "          'colsample_bytree': 0.75}\n",
    "\n",
    "cv = KFold(n_splits=3, shuffle=True, random_state=43)\n",
    "\n",
    "n_estimators_range = [30, 50, 100, 200, 300, 500, 750, 1000, 1500]\n",
    "\n",
    "train_scores, test_scores = validation_curve(\n",
    "    xgb.XGBRegressor(**params),\n",
    "    X, y,\n",
    "    param_name = 'n_estimators',\n",
    "    param_range = n_estimators_range,\n",
    "    cv=cv.split(X, y),\n",
    "    scoring = 'explained_variance',\n",
    "    n_jobs=3\n",
    ")"
   ]
  },
  {
   "cell_type": "code",
   "execution_count": 23,
   "metadata": {},
   "outputs": [
    {
     "data": {
      "image/png": "[encoded data removed]",
      "text/plain": [
       "<Figure size 1000x600 with 1 Axes>"
      ]
     },
     "metadata": {},
     "output_type": "display_data"
    },
    {
     "name": "stdout",
     "output_type": "stream",
     "text": [
      "Best cross-validation result (0.799) obtained for 1500 trees\n"
     ]
    }
   ],
   "source": [
    "def plot_curve(train_scores, test_scores):\n",
    "    train_scores_mean = np.mean(train_scores, axis=1)\n",
    "    train_scores_std = np.std(train_scores, axis=1)\n",
    "    test_scores_mean = np.mean(train_scores, axis=1)\n",
    "    test_scores_std = np.std(test_scores, axis=1)\n",
    "\n",
    "    fig = plt.figure(figsize=(10, 6), dpi=100)\n",
    "\n",
    "    plt.title(\"Validation Curve with XGBoost\")\n",
    "    plt.xlabel(\"number of trees\")\n",
    "    #plt.ylabel(\"Accuracy\")\n",
    "    plt.ylim(0.3, 1.01)\n",
    "\n",
    "    plt.plot(n_estimators_range,\n",
    "                 train_scores_mean,\n",
    "                 label=\"Training score\",\n",
    "                 color=\"r\")\n",
    "\n",
    "    plt.plot(n_estimators_range,\n",
    "                 test_scores_mean, \n",
    "                 label=\"Cross-validation score\",\n",
    "                 color=\"g\")\n",
    "\n",
    "    plt.fill_between(n_estimators_range, \n",
    "                     train_scores_mean - train_scores_std,\n",
    "                     train_scores_mean + train_scores_std, \n",
    "                     alpha=0.2, color=\"r\")\n",
    "\n",
    "    plt.fill_between(n_estimators_range,\n",
    "                     test_scores_mean - test_scores_std,\n",
    "                     test_scores_mean + test_scores_std,\n",
    "                     alpha=0.2, color=\"g\")\n",
    "\n",
    "    plt.axhline(y=1, color='k', ls='dashed')\n",
    "\n",
    "    plt.legend(loc=\"best\")\n",
    "    plt.show()\n",
    "\n",
    "    i = np.argmax(test_scores_mean)\n",
    "    print(\"Best cross-validation result ({0:.3f}) obtained for {1} trees\".format(test_scores_mean[i], \n",
    "                                                                                 n_estimators_range[i]))\n",
    "    \n",
    "plot_curve(train_scores, test_scores)"
   ]
  },
  {
   "cell_type": "markdown",
   "metadata": {},
   "source": [
    "### fit_predict + cross-validation   for final score"
   ]
  },
  {
   "cell_type": "code",
   "execution_count": 24,
   "metadata": {},
   "outputs": [
    {
     "name": "stdout",
     "output_type": "stream",
     "text": [
      "[ 8179. 15991. 10334. 14439.  5910.] \n",
      " [10000. 16000.  9045. 14756.  5859.]\n"
     ]
    }
   ],
   "source": [
    "params = {\n",
    "    \"objective\": \"reg:squarederror\",\n",
    "    \"max_depth\":14,\n",
    "    \"learning_rate\": 0.1,\n",
    "    \"colsample_bytree\": 0.9,\n",
    "    \"subsample\": 0.9,\n",
    "    'min_child_weight': 4,\n",
    "    \"grow_policy\": \"lossguide\",\n",
    "    \"tree_method\": \"hist\",\n",
    "    \"n_estimators\": 1000 #5000,\n",
    "}\n",
    "kfold = KFold(n_splits=10)\n",
    "xgb_model = xgb.XGBRegressor(**params, seed = 100)\n",
    "pred = cross_val_predict(xgb_model, X, y, cv=kfold)\n",
    "\n",
    "# predictions\n",
    "print(pred[:5]//1, '\\n', y.values[:5])"
   ]
  },
  {
   "cell_type": "code",
   "execution_count": 25,
   "metadata": {},
   "outputs": [
    {
     "data": {
      "text/plain": [
       "((9343,), (9343,))"
      ]
     },
     "execution_count": 25,
     "metadata": {},
     "output_type": "execute_result"
    }
   ],
   "source": [
    "pred.shape, y.shape"
   ]
  },
  {
   "cell_type": "code",
   "execution_count": null,
   "metadata": {},
   "outputs": [],
   "source": []
  }
 ],
 "metadata": {
  "kernelspec": {
   "display_name": "Python 3",
   "language": "python",
   "name": "python3"
  },
  "language_info": {
   "codemirror_mode": {
    "name": "ipython",
    "version": 3
   },
   "file_extension": ".py",
   "mimetype": "text/x-python",
   "name": "python",
   "nbconvert_exporter": "python",
   "pygments_lexer": "ipython3",
   "version": "3.8.2"
  }
 },
 "nbformat": 4,
 "nbformat_minor": 2
}
