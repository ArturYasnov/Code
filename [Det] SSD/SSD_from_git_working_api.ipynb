{
 "cells": [
  {
   "cell_type": "code",
   "execution_count": 1,
   "metadata": {},
   "outputs": [
    {
     "name": "stdout",
     "output_type": "stream",
     "text": [
      "Cloning into 'SSD'...\n",
      "remote: Enumerating objects: 920, done.\u001b[K\n",
      "remote: Total 920 (delta 0), reused 0 (delta 0), pack-reused 920\u001b[K\n",
      "Receiving objects: 100% (920/920), 796.66 KiB | 1.89 MiB/s, done.\n",
      "Resolving deltas: 100% (535/535), done.\n"
     ]
    }
   ],
   "source": [
    "### Cloning Github Repository \n",
    "!git clone https://github.com/lufficc/SSD"
   ]
  },
  {
   "cell_type": "code",
   "execution_count": 3,
   "metadata": {},
   "outputs": [],
   "source": [
    "# %cd SSD"
   ]
  },
  {
   "cell_type": "code",
   "execution_count": null,
   "metadata": {},
   "outputs": [],
   "source": [
    "# download dataset\n",
    "# COCO"
   ]
  },
  {
   "cell_type": "code",
   "execution_count": 7,
   "metadata": {},
   "outputs": [],
   "source": [
    "# train train SSD300\n",
    "#!python train.py --config-file configs/vgg_ssd300_voc0712.yaml"
   ]
  },
  {
   "cell_type": "code",
   "execution_count": null,
   "metadata": {},
   "outputs": [],
   "source": [
    "# evaluate SSD300:\n",
    "# python test.py --config-file configs/vgg_ssd300_voc0712.yaml"
   ]
  },
  {
   "cell_type": "code",
   "execution_count": 4,
   "metadata": {
    "scrolled": false
   },
   "outputs": [
    {
     "name": "stdout",
     "output_type": "stream",
     "text": [
      "Namespace(ckpt='https://github.com/lufficc/SSD/releases/download/1.2/vgg_ssd300_voc0712.pth', config_file='configs/vgg_ssd300_voc0712.yaml', dataset_type='voc', images_dir='demo', opts=[], output_dir='demo/result', score_threshold=0.7)\n",
      "Loaded configuration file configs/vgg_ssd300_voc0712.yaml\n",
      "\n",
      "MODEL:\n",
      "  NUM_CLASSES: 21\n",
      "INPUT:\n",
      "  IMAGE_SIZE: 300\n",
      "DATASETS:\n",
      "  TRAIN: (\"voc_2007_trainval\", \"voc_2012_trainval\")\n",
      "  TEST: (\"voc_2007_test\", )\n",
      "SOLVER:\n",
      "  MAX_ITER: 120000\n",
      "  LR_STEPS: [80000, 100000]\n",
      "  GAMMA: 0.1\n",
      "  BATCH_SIZE: 32\n",
      "  LR: 1e-3\n",
      "\n",
      "OUTPUT_DIR: 'outputs/vgg_ssd300_voc0712'\n",
      "Running with config:\n",
      "DATASETS:\n",
      "  TEST: ('voc_2007_test',)\n",
      "  TRAIN: ('voc_2007_trainval', 'voc_2012_trainval')\n",
      "DATA_LOADER:\n",
      "  NUM_WORKERS: 8\n",
      "  PIN_MEMORY: True\n",
      "INPUT:\n",
      "  IMAGE_SIZE: 300\n",
      "  PIXEL_MEAN: [123, 117, 104]\n",
      "MODEL:\n",
      "  BACKBONE:\n",
      "    NAME: vgg\n",
      "    OUT_CHANNELS: (512, 1024, 512, 256, 256, 256)\n",
      "    PRETRAINED: True\n",
      "  BOX_HEAD:\n",
      "    NAME: SSDBoxHead\n",
      "    PREDICTOR: SSDBoxPredictor\n",
      "  CENTER_VARIANCE: 0.1\n",
      "  DEVICE: cuda\n",
      "  META_ARCHITECTURE: SSDDetector\n",
      "  NEG_POS_RATIO: 3\n",
      "  NUM_CLASSES: 21\n",
      "  PRIORS:\n",
      "    ASPECT_RATIOS: [[2], [2, 3], [2, 3], [2, 3], [2], [2]]\n",
      "    BOXES_PER_LOCATION: [4, 6, 6, 6, 4, 4]\n",
      "    CLIP: True\n",
      "    FEATURE_MAPS: [38, 19, 10, 5, 3, 1]\n",
      "    MAX_SIZES: [60, 111, 162, 213, 264, 315]\n",
      "    MIN_SIZES: [30, 60, 111, 162, 213, 264]\n",
      "    STRIDES: [8, 16, 32, 64, 100, 300]\n",
      "  SIZE_VARIANCE: 0.2\n",
      "  THRESHOLD: 0.5\n",
      "OUTPUT_DIR: outputs/vgg_ssd300_voc0712\n",
      "SOLVER:\n",
      "  BATCH_SIZE: 32\n",
      "  GAMMA: 0.1\n",
      "  LR: 0.001\n",
      "  LR_STEPS: [80000, 100000]\n",
      "  MAX_ITER: 120000\n",
      "  MOMENTUM: 0.9\n",
      "  WARMUP_FACTOR: 0.3333333333333333\n",
      "  WARMUP_ITERS: 500\n",
      "  WEIGHT_DECAY: 0.0005\n",
      "TEST:\n",
      "  BATCH_SIZE: 10\n",
      "  CONFIDENCE_THRESHOLD: 0.01\n",
      "  MAX_PER_CLASS: -1\n",
      "  MAX_PER_IMAGE: 100\n",
      "  NMS_THRESHOLD: 0.45\n",
      "Downloading: \"https://s3.amazonaws.com/amdegroot-models/vgg16_reducedfc.pth\" to /home/arti/.torch/models/vgg16_reducedfc.pth\n",
      "100%|██████████████████████████████████████| 78.1M/78.1M [00:10<00:00, 7.94MB/s]\n",
      "Downloading: \"https://github.com/lufficc/SSD/releases/download/1.2/vgg_ssd300_voc0712.pth\" to /home/arti/.torch/models/vgg_ssd300_voc0712.pth\n",
      "100%|████████████████████████████████████████| 201M/201M [00:25<00:00, 8.40MB/s]\n",
      "Loaded weights from https://github.com/lufficc/SSD/releases/download/1.2/vgg_ssd300_voc0712.pth\n",
      "(0001/0005) 004101.jpg: objects 01 | load 008ms | inference 015ms | FPS 65\n",
      "(0002/0005) 000542.jpg: objects 01 | load 004ms | inference 013ms | FPS 77\n",
      "(0003/0005) 003123.jpg: objects 05 | load 003ms | inference 013ms | FPS 77\n",
      "(0004/0005) 000342.jpg: objects 02 | load 003ms | inference 013ms | FPS 77\n",
      "(0005/0005) 008591.jpg: objects 02 | load 003ms | inference 013ms | FPS 77\n"
     ]
    }
   ],
   "source": [
    "# Demo\n",
    "!python demo.py --config-file configs/vgg_ssd300_voc0712.yaml --images_dir demo --ckpt https://github.com/lufficc/SSD/releases/download/1.2/vgg_ssd300_voc0712.pth\n"
   ]
  },
  {
   "cell_type": "code",
   "execution_count": null,
   "metadata": {},
   "outputs": [],
   "source": []
  }
 ],
 "metadata": {
  "kernelspec": {
   "display_name": "python_detect",
   "language": "python",
   "name": "python_detect"
  },
  "language_info": {
   "codemirror_mode": {
    "name": "ipython",
    "version": 3
   },
   "file_extension": ".py",
   "mimetype": "text/x-python",
   "name": "python",
   "nbconvert_exporter": "python",
   "pygments_lexer": "ipython3",
   "version": "3.7.6"
  }
 },
 "nbformat": 4,
 "nbformat_minor": 4
}
